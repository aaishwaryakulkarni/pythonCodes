{
 "cells": [
  {
   "cell_type": "code",
   "execution_count": 53,
   "id": "83e14156-470c-4c6f-8e2a-e2ac9712e793",
   "metadata": {},
   "outputs": [],
   "source": [
    "mydict = {\n",
    "  \"year\": 1964,\n",
    "  \"brand\": \"Ford\",\n",
    "  \"model\": \"Mustang\"\n",
    "}"
   ]
  },
  {
   "cell_type": "code",
   "execution_count": 54,
   "id": "45dba7cb-bfe9-4662-a8ff-a617133e0882",
   "metadata": {},
   "outputs": [
    {
     "data": {
      "text/plain": [
       "{'year': 1964, 'brand': 'Ford', 'model': 'Mustang'}"
      ]
     },
     "execution_count": 54,
     "metadata": {},
     "output_type": "execute_result"
    }
   ],
   "source": [
    "mydict"
   ]
  },
  {
   "cell_type": "markdown",
   "id": "39070561-a16b-4e28-b078-82a7f63e509f",
   "metadata": {},
   "source": [
    "#### As of Python version 3.7, dictionaries are ordered. In Python 3.6 and earlier, dictionaries are unordered."
   ]
  },
  {
   "cell_type": "code",
   "execution_count": 55,
   "id": "b25e1af4-44ba-4bc3-b040-2bd7838333b2",
   "metadata": {},
   "outputs": [
    {
     "name": "stdout",
     "output_type": "stream",
     "text": [
      "{'name': 'Aaishwarya', 'age': 26, 'country': 'India'}\n"
     ]
    }
   ],
   "source": [
    "# using constructor\n",
    "mydict = dict(name = \"Aaishwarya\", age = 26, country = \"India\")\n",
    "print(mydict)"
   ]
  },
  {
   "cell_type": "code",
   "execution_count": 56,
   "id": "5e99bfbe-2300-4bae-a3b9-d5e33beb4682",
   "metadata": {},
   "outputs": [
    {
     "name": "stdout",
     "output_type": "stream",
     "text": [
      "26\n",
      "None\n"
     ]
    }
   ],
   "source": [
    "x = mydict.get(\"age\")\n",
    "print(x)\n",
    "\n",
    "y = mydict.get(\"state\", None)\n",
    "print(y)"
   ]
  },
  {
   "cell_type": "code",
   "execution_count": 57,
   "id": "4dcb1f7e-74c5-4b49-a6ad-31f7b5fcbb62",
   "metadata": {},
   "outputs": [
    {
     "name": "stdout",
     "output_type": "stream",
     "text": [
      "dict_keys(['name', 'age', 'country'])\n"
     ]
    }
   ],
   "source": [
    "print(mydict.keys())"
   ]
  },
  {
   "cell_type": "code",
   "execution_count": 58,
   "id": "cb08bdf4-2a8d-4bf9-9041-5e9171bafc5a",
   "metadata": {},
   "outputs": [
    {
     "name": "stdout",
     "output_type": "stream",
     "text": [
      "{'name': 'Aaishwarya', 'age': 27, 'country': 'India', 'surname': 'Kulkarni'}\n"
     ]
    }
   ],
   "source": [
    "mydict.update({\"age\": 27})\n",
    "mydict.update({\"surname\": \"Kulkarni\"})\n",
    "print(mydict)"
   ]
  },
  {
   "cell_type": "code",
   "execution_count": 59,
   "id": "b69a5f7a-c9de-4327-8f64-7a49c573c714",
   "metadata": {},
   "outputs": [
    {
     "data": {
      "text/plain": [
       "'India'"
      ]
     },
     "execution_count": 59,
     "metadata": {},
     "output_type": "execute_result"
    }
   ],
   "source": [
    "mydict.setdefault(\"city\", \"Pune\")\n",
    "mydict.setdefault(\"country\", \"NA\")"
   ]
  },
  {
   "cell_type": "code",
   "execution_count": 60,
   "id": "32a459e4-b6b3-4d72-8457-dc687a8a1df6",
   "metadata": {},
   "outputs": [
    {
     "data": {
      "text/plain": [
       "{'name': 'Aaishwarya',\n",
       " 'age': 27,\n",
       " 'country': 'India',\n",
       " 'surname': 'Kulkarni',\n",
       " 'city': 'Pune'}"
      ]
     },
     "execution_count": 60,
     "metadata": {},
     "output_type": "execute_result"
    }
   ],
   "source": [
    "mydict"
   ]
  },
  {
   "cell_type": "code",
   "execution_count": 61,
   "id": "f1288306-9965-4ece-bc35-d0fac3674ec3",
   "metadata": {},
   "outputs": [],
   "source": [
    "mydict.pop(\"myname\", None)"
   ]
  },
  {
   "cell_type": "code",
   "execution_count": 36,
   "id": "c8c99b7d-bb47-42d9-acb7-2e5104828d8d",
   "metadata": {},
   "outputs": [
    {
     "data": {
      "text/plain": [
       "'Kulkarni'"
      ]
     },
     "execution_count": 36,
     "metadata": {},
     "output_type": "execute_result"
    }
   ],
   "source": [
    "mydict.pop(\"surname\", None)"
   ]
  },
  {
   "cell_type": "code",
   "execution_count": 39,
   "id": "f067f93c-3a9a-4224-aeca-6fee1b4ec17d",
   "metadata": {},
   "outputs": [
    {
     "name": "stdout",
     "output_type": "stream",
     "text": [
      "{'name': 'Aaishwarya', 'age': 27}\n"
     ]
    }
   ],
   "source": [
    "print(mydict)"
   ]
  },
  {
   "cell_type": "markdown",
   "id": "f9adc9a2-05f8-463c-a619-8f8fd6991840",
   "metadata": {},
   "source": [
    "#### The popitem() method removes the last inserted item (in versions before 3.7, a random item is removed instead)"
   ]
  },
  {
   "cell_type": "code",
   "execution_count": 38,
   "id": "02576138-9d72-4b9c-b231-29918d337287",
   "metadata": {},
   "outputs": [
    {
     "data": {
      "text/plain": [
       "('country', 'India')"
      ]
     },
     "execution_count": 38,
     "metadata": {},
     "output_type": "execute_result"
    }
   ],
   "source": [
    "mydict.popitem()"
   ]
  },
  {
   "cell_type": "code",
   "execution_count": 40,
   "id": "030e222c-62ca-4829-81fd-c9122cf57283",
   "metadata": {},
   "outputs": [
    {
     "name": "stdout",
     "output_type": "stream",
     "text": [
      "name Aaishwarya\n",
      "age 27\n"
     ]
    }
   ],
   "source": [
    "for key, value in mydict.items():\n",
    "  print(key, value)"
   ]
  },
  {
   "cell_type": "markdown",
   "id": "94667880-043a-49cd-8853-770e83db92cd",
   "metadata": {},
   "source": [
    "#### You cannot copy a dictionary simply by typing dict2 = dict1, because: dict2 will only be a reference to dict1, and changes made in dict1 will automatically also be made in dict2. There are ways to make a copy, one way is to use the built-in Dictionary method copy()"
   ]
  },
  {
   "cell_type": "code",
   "execution_count": 41,
   "id": "e15e87a3-5fcd-4fb7-b27c-de8ba798c6dd",
   "metadata": {},
   "outputs": [],
   "source": [
    "mydict1 = mydict.copy()\n",
    "mydict2 = dict(mydict)"
   ]
  },
  {
   "cell_type": "code",
   "execution_count": 42,
   "id": "1da29920-5e9b-4416-a36f-b3d30a3474ad",
   "metadata": {},
   "outputs": [
    {
     "data": {
      "text/plain": [
       "{'name': 'Aaishwarya', 'age': 27}"
      ]
     },
     "execution_count": 42,
     "metadata": {},
     "output_type": "execute_result"
    }
   ],
   "source": [
    "mydict2"
   ]
  },
  {
   "cell_type": "code",
   "execution_count": 43,
   "id": "b7254e24-1a59-4276-a0d3-dfb01a8377a0",
   "metadata": {},
   "outputs": [],
   "source": [
    "mydict2.clear()"
   ]
  },
  {
   "cell_type": "code",
   "execution_count": 44,
   "id": "60602758-146e-4ee3-89a5-aeeab1f57594",
   "metadata": {},
   "outputs": [
    {
     "data": {
      "text/plain": [
       "{}"
      ]
     },
     "execution_count": 44,
     "metadata": {},
     "output_type": "execute_result"
    }
   ],
   "source": [
    "mydict2"
   ]
  },
  {
   "cell_type": "code",
   "execution_count": null,
   "id": "bcb2e267-a2af-456f-9ecf-9c0da9a6b49b",
   "metadata": {},
   "outputs": [],
   "source": []
  }
 ],
 "metadata": {
  "kernelspec": {
   "display_name": "Python 3 (ipykernel)",
   "language": "python",
   "name": "python3"
  },
  "language_info": {
   "codemirror_mode": {
    "name": "ipython",
    "version": 3
   },
   "file_extension": ".py",
   "mimetype": "text/x-python",
   "name": "python",
   "nbconvert_exporter": "python",
   "pygments_lexer": "ipython3",
   "version": "3.12.2"
  }
 },
 "nbformat": 4,
 "nbformat_minor": 5
}
