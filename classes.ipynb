{
 "cells": [
  {
   "cell_type": "code",
   "execution_count": 71,
   "id": "9dafd2c1-bc29-4288-8e99-71620db6f159",
   "metadata": {},
   "outputs": [],
   "source": [
    "import math"
   ]
  },
  {
   "cell_type": "code",
   "execution_count": 72,
   "id": "e1b15b92-211d-4127-ac12-eaae12b0db86",
   "metadata": {},
   "outputs": [],
   "source": [
    "class Circle:\n",
    "    def __init__(self, radius):\n",
    "        self.radius = radius\n",
    "\n",
    "    def calculate_area(self):\n",
    "        return round(math.pi * self.radius ** 2, 2)"
   ]
  },
  {
   "cell_type": "code",
   "execution_count": 73,
   "id": "edc921b8-d1f2-47b2-bb73-b471fe823427",
   "metadata": {},
   "outputs": [],
   "source": [
    "circle_1 = Circle(42)\n",
    "circle_2 = Circle(7)"
   ]
  },
  {
   "cell_type": "code",
   "execution_count": 74,
   "id": "5921226f-157a-45e4-ab30-0723ab5d91a9",
   "metadata": {},
   "outputs": [
    {
     "data": {
      "text/plain": [
       "<__main__.Circle at 0x1cba5fc0ef0>"
      ]
     },
     "execution_count": 74,
     "metadata": {},
     "output_type": "execute_result"
    }
   ],
   "source": [
    "circle_1"
   ]
  },
  {
   "cell_type": "code",
   "execution_count": 75,
   "id": "984288c2-6141-4ac4-aab8-2422cf9ca7d5",
   "metadata": {},
   "outputs": [
    {
     "data": {
      "text/plain": [
       "<__main__.Circle at 0x1cba5fc3080>"
      ]
     },
     "execution_count": 75,
     "metadata": {},
     "output_type": "execute_result"
    }
   ],
   "source": [
    "circle_2"
   ]
  },
  {
   "cell_type": "code",
   "execution_count": 76,
   "id": "2a0f907a-7814-4f0c-8bb4-6a5727e0e21e",
   "metadata": {},
   "outputs": [
    {
     "data": {
      "text/plain": [
       "5541.77"
      ]
     },
     "execution_count": 76,
     "metadata": {},
     "output_type": "execute_result"
    }
   ],
   "source": [
    "circle_1.calculate_area()"
   ]
  },
  {
   "cell_type": "raw",
   "id": "d0a1c3dd-0eef-4c37-a68a-008b45450e1b",
   "metadata": {},
   "source": [
    "Class Attributes\n",
    "Class attributes are variables that you define directly in the class body but outside of any method. These attributes are tied to the class itself rather than to particular objects of that class."
   ]
  },
  {
   "cell_type": "code",
   "execution_count": 77,
   "id": "1ad85976-bb87-4070-9110-8f1292d2b496",
   "metadata": {},
   "outputs": [],
   "source": [
    "class Counter:\n",
    "    instance_count = 0\n",
    "    def __init__(self):\n",
    "        Counter.instance_count += 1\n",
    "\n",
    "c1 = Counter()\n",
    "c2 = Counter()\n",
    "c3 = Counter()\n",
    "c4 = Counter()"
   ]
  },
  {
   "cell_type": "code",
   "execution_count": 78,
   "id": "10db8191-905f-4995-b5b4-b6ff70f7c3e3",
   "metadata": {},
   "outputs": [
    {
     "data": {
      "text/plain": [
       "4"
      ]
     },
     "execution_count": 78,
     "metadata": {},
     "output_type": "execute_result"
    }
   ],
   "source": [
    "Counter.instance_count"
   ]
  },
  {
   "cell_type": "raw",
   "id": "7bb00b72-d3ca-4d61-92fc-cba50f39ccb7",
   "metadata": {},
   "source": [
    "Using type(self) instead of class name inside init. Avoids hard-coding, more flexibility"
   ]
  },
  {
   "cell_type": "code",
   "execution_count": 79,
   "id": "319f49b9-9457-4d78-bea3-6860f42c87e5",
   "metadata": {},
   "outputs": [],
   "source": [
    "class Counter:\n",
    "    instance_count = 0\n",
    "    def __init__(self):\n",
    "        type(self).instance_count += 1\n",
    "\n",
    "c1 = Counter()\n",
    "c2 = Counter()\n",
    "c3 = Counter()\n",
    "c4 = Counter()"
   ]
  },
  {
   "cell_type": "code",
   "execution_count": 80,
   "id": "5c009e68-f9d9-4080-a183-bed40d8b5dc1",
   "metadata": {},
   "outputs": [
    {
     "data": {
      "text/plain": [
       "4"
      ]
     },
     "execution_count": 80,
     "metadata": {},
     "output_type": "execute_result"
    }
   ],
   "source": [
    "Counter.instance_count"
   ]
  },
  {
   "cell_type": "raw",
   "id": "33045263-adb7-4825-8d16-8f1db884740d",
   "metadata": {},
   "source": [
    "It’s important to note that you can access class attributes using either the class or one of its instances. That’s why you can use the counter object to retrieve the value of .num_instances. However, if you need to modify a class attribute, then you must use the class itself rather than one of its instances.\n",
    "\n",
    "For example, if you use self to modify .num_instances, then you’ll be overriding the original class attribute by creating a new instance attribute:"
   ]
  },
  {
   "cell_type": "code",
   "execution_count": 81,
   "id": "5d5baf04-ce30-410a-aad7-5eeffde0a119",
   "metadata": {},
   "outputs": [],
   "source": [
    "class Counter:\n",
    "    instance_count = 0\n",
    "    def __init__(self):\n",
    "        self.instance_count += 1\n",
    "\n",
    "c1 = Counter()\n",
    "c2 = Counter()\n",
    "c3 = Counter()\n",
    "c4 = Counter()"
   ]
  },
  {
   "cell_type": "code",
   "execution_count": 82,
   "id": "be8f45ed-1f8e-432f-ab84-62a738de033e",
   "metadata": {},
   "outputs": [
    {
     "data": {
      "text/plain": [
       "0"
      ]
     },
     "execution_count": 82,
     "metadata": {},
     "output_type": "execute_result"
    }
   ],
   "source": [
    "Counter.instance_count"
   ]
  },
  {
   "cell_type": "raw",
   "id": "cf6a6307-4cf3-4abe-82af-50e77163ce7d",
   "metadata": {},
   "source": [
    "Instance attribute"
   ]
  },
  {
   "cell_type": "code",
   "execution_count": 83,
   "id": "f1617657-56e0-4517-b394-d90560a50586",
   "metadata": {},
   "outputs": [],
   "source": [
    "class Student:\n",
    "    def __init__(self, name, surname, age, state, city):\n",
    "        self.name = name\n",
    "        self.surname = surname\n",
    "        self.age = age\n",
    "        self.state = state\n",
    "        self.city = city\n",
    "        self.country = \"India\"\n",
    "    def full_name(self): \n",
    "        return f\"{self.name} {self.surname}\""
   ]
  },
  {
   "cell_type": "code",
   "execution_count": 84,
   "id": "f232a195-acc1-44f0-963d-6c77c61e16a2",
   "metadata": {},
   "outputs": [],
   "source": [
    "s1 = Student(\"Aaishwarya\", \"Kulkarni\", 27, \"Maharashtra\", \"Pune\")"
   ]
  },
  {
   "cell_type": "code",
   "execution_count": 85,
   "id": "6991b181-638f-409e-95c9-dc6a33af11c1",
   "metadata": {},
   "outputs": [
    {
     "data": {
      "text/plain": [
       "'Aaishwarya'"
      ]
     },
     "execution_count": 85,
     "metadata": {},
     "output_type": "execute_result"
    }
   ],
   "source": [
    "s1.name"
   ]
  },
  {
   "cell_type": "code",
   "execution_count": 86,
   "id": "5c2f9947-3b73-4812-a386-58bbb93c3395",
   "metadata": {},
   "outputs": [
    {
     "data": {
      "text/plain": [
       "'India'"
      ]
     },
     "execution_count": 86,
     "metadata": {},
     "output_type": "execute_result"
    }
   ],
   "source": [
    "s1.country"
   ]
  },
  {
   "cell_type": "code",
   "execution_count": 87,
   "id": "703b9e3f-2429-4f53-b50a-ea8e271cf082",
   "metadata": {},
   "outputs": [
    {
     "data": {
      "text/plain": [
       "'Aaishwarya Kulkarni'"
      ]
     },
     "execution_count": 87,
     "metadata": {},
     "output_type": "execute_result"
    }
   ],
   "source": [
    "s1.full_name()"
   ]
  },
  {
   "cell_type": "markdown",
   "id": "bbfd802b-9936-483e-a2bd-a01ee81328d5",
   "metadata": {},
   "source": [
    "#### Getter, Setter, Property"
   ]
  },
  {
   "cell_type": "raw",
   "id": "9feaa932-6f17-4733-b291-b2baf56d93e4",
   "metadata": {},
   "source": [
    "They help encapsulate data and control access to it. By private attributes and providing getters and setters, we can ensure that the data is accessed and modified only through the defined methods. This helps in maintaining data integrity and prevents unauthorized access.\n",
    "Allow us to implement data validation and ensure that only valid values are assigned to attributes."
   ]
  },
  {
   "cell_type": "code",
   "execution_count": 88,
   "id": "4a856c47-b915-4cfe-b12c-603083309fba",
   "metadata": {},
   "outputs": [],
   "source": [
    "class Employee:\n",
    "    def __init__(self, first, last):\n",
    "        self.first = first\n",
    "        self.last = last\n",
    "        self.email = f\"{first}.{last}@gmail.com\"\n",
    "        \n",
    "    def fullname(self):\n",
    "        return f\"{self.first} {self.last}\""
   ]
  },
  {
   "cell_type": "code",
   "execution_count": 89,
   "id": "389e86a2-d89c-4433-a8ab-63eaa59985e6",
   "metadata": {},
   "outputs": [],
   "source": [
    "emp1 = Employee(\"Aaishwarya\", \"Kulkarni\")"
   ]
  },
  {
   "cell_type": "code",
   "execution_count": 90,
   "id": "6e0bcc38-87af-43d8-8f0a-2766b4eaa551",
   "metadata": {},
   "outputs": [
    {
     "name": "stdout",
     "output_type": "stream",
     "text": [
      "Aaishwarya\n",
      "Kulkarni\n",
      "Aaishwarya.Kulkarni@gmail.com\n"
     ]
    }
   ],
   "source": [
    "print(emp1.first)\n",
    "print(emp1.last)\n",
    "print(emp1.email)"
   ]
  },
  {
   "cell_type": "code",
   "execution_count": 91,
   "id": "1ad569aa-6b7c-41fa-950c-c59f5f8c9ade",
   "metadata": {},
   "outputs": [],
   "source": [
    "emp1.first = \"Abc\""
   ]
  },
  {
   "cell_type": "code",
   "execution_count": 92,
   "id": "6e1220d4-cb2b-43e2-be96-28403477a511",
   "metadata": {},
   "outputs": [
    {
     "name": "stdout",
     "output_type": "stream",
     "text": [
      "Abc\n",
      "Kulkarni\n",
      "Aaishwarya.Kulkarni@gmail.com\n"
     ]
    }
   ],
   "source": [
    "print(emp1.first)\n",
    "print(emp1.last)\n",
    "print(emp1.email)"
   ]
  },
  {
   "cell_type": "code",
   "execution_count": 96,
   "id": "837337bf-376b-462f-a817-c213c0179725",
   "metadata": {},
   "outputs": [],
   "source": [
    "class Employee:\n",
    "    def __init__(self, first, last):\n",
    "        self.first = first\n",
    "        self.last = last\n",
    "\n",
    "    @property\n",
    "    def email(self):\n",
    "         return f\"{self.first}.{self.last}@gmail.com\"\n",
    "\n",
    "    @property\n",
    "    def fullname(self):\n",
    "        return f\"{self.first} {self.last}\""
   ]
  },
  {
   "cell_type": "code",
   "execution_count": 98,
   "id": "3a41e6e8-d261-4147-9598-c91b1e6f6f48",
   "metadata": {},
   "outputs": [
    {
     "name": "stdout",
     "output_type": "stream",
     "text": [
      "Aaishwarya\n",
      "Kulkarni\n",
      "Aaishwarya.Kulkarni@gmail.com\n",
      "Aaishwarya Kulkarni\n",
      "Abc\n",
      "Kulkarni\n",
      "Abc.Kulkarni@gmail.com\n",
      "Abc Kulkarni\n"
     ]
    }
   ],
   "source": [
    "emp1 = Employee(\"Aaishwarya\", \"Kulkarni\")\n",
    "print(emp1.first)\n",
    "print(emp1.last)\n",
    "print(emp1.email)\n",
    "print(emp1.fullname)\n",
    "emp1.first = \"Abc\"\n",
    "print(emp1.first)\n",
    "print(emp1.last)\n",
    "print(emp1.email)\n",
    "print(emp1.fullname)"
   ]
  },
  {
   "cell_type": "code",
   "execution_count": 108,
   "id": "d12e52e7-7858-446c-8e01-592970fbff9e",
   "metadata": {},
   "outputs": [],
   "source": [
    "class Employee:\n",
    "    def __init__(self, first, last):\n",
    "        self.first = first\n",
    "        self.last = last\n",
    "\n",
    "    @property\n",
    "    def email(self):\n",
    "         return f\"{self.first}.{self.last}@gmail.com\"\n",
    "\n",
    "    @property\n",
    "    def fullname(self):\n",
    "        return f\"{self.first} {self.last}\"\n",
    "        \n",
    "    @fullname.setter\n",
    "    def fullname(self, name):\n",
    "        try:\n",
    "            first, last = name.split(' ')\n",
    "        except:\n",
    "             raise ValueError(\"Need a first name and a last name\")\n",
    "        self.first = first\n",
    "        self.last = last"
   ]
  },
  {
   "cell_type": "code",
   "execution_count": 109,
   "id": "8ad2427c-13d4-482d-8523-22fb1c8efab2",
   "metadata": {},
   "outputs": [
    {
     "name": "stdout",
     "output_type": "stream",
     "text": [
      "Aaishwarya\n",
      "Kulkarni\n",
      "Aaishwarya.Kulkarni@gmail.com\n",
      "Aaishwarya Kulkarni\n",
      "Abc\n",
      "Kulkarni\n",
      "Abc.Kulkarni@gmail.com\n",
      "Abc Kulkarni\n",
      "Aaishwarya\n",
      "Kulkarni\n",
      "Aaishwarya.Kulkarni@gmail.com\n",
      "Aaishwarya Kulkarni\n"
     ]
    },
    {
     "ename": "ValueError",
     "evalue": "Need a first name and a last name",
     "output_type": "error",
     "traceback": [
      "\u001b[1;31m---------------------------------------------------------------------------\u001b[0m",
      "\u001b[1;31mValueError\u001b[0m                                Traceback (most recent call last)",
      "Cell \u001b[1;32mIn[108], line 17\u001b[0m, in \u001b[0;36mEmployee.fullname\u001b[1;34m(self, name)\u001b[0m\n\u001b[0;32m     16\u001b[0m \u001b[38;5;28;01mtry\u001b[39;00m:\n\u001b[1;32m---> 17\u001b[0m     first, last \u001b[38;5;241m=\u001b[39m name\u001b[38;5;241m.\u001b[39msplit(\u001b[38;5;124m'\u001b[39m\u001b[38;5;124m \u001b[39m\u001b[38;5;124m'\u001b[39m)\n\u001b[0;32m     18\u001b[0m \u001b[38;5;28;01mexcept\u001b[39;00m:\n",
      "\u001b[1;31mValueError\u001b[0m: not enough values to unpack (expected 2, got 1)",
      "\nDuring handling of the above exception, another exception occurred:\n",
      "\u001b[1;31mValueError\u001b[0m                                Traceback (most recent call last)",
      "Cell \u001b[1;32mIn[109], line 16\u001b[0m\n\u001b[0;32m     14\u001b[0m \u001b[38;5;28mprint\u001b[39m(emp1\u001b[38;5;241m.\u001b[39memail)\n\u001b[0;32m     15\u001b[0m \u001b[38;5;28mprint\u001b[39m(emp1\u001b[38;5;241m.\u001b[39mfullname)\n\u001b[1;32m---> 16\u001b[0m \u001b[43memp1\u001b[49m\u001b[38;5;241;43m.\u001b[39;49m\u001b[43mfullname\u001b[49m \u001b[38;5;241m=\u001b[39m \u001b[38;5;124m\"\u001b[39m\u001b[38;5;124mKulkarni\u001b[39m\u001b[38;5;124m\"\u001b[39m\n",
      "Cell \u001b[1;32mIn[108], line 19\u001b[0m, in \u001b[0;36mEmployee.fullname\u001b[1;34m(self, name)\u001b[0m\n\u001b[0;32m     17\u001b[0m     first, last \u001b[38;5;241m=\u001b[39m name\u001b[38;5;241m.\u001b[39msplit(\u001b[38;5;124m'\u001b[39m\u001b[38;5;124m \u001b[39m\u001b[38;5;124m'\u001b[39m)\n\u001b[0;32m     18\u001b[0m \u001b[38;5;28;01mexcept\u001b[39;00m:\n\u001b[1;32m---> 19\u001b[0m      \u001b[38;5;28;01mraise\u001b[39;00m \u001b[38;5;167;01mValueError\u001b[39;00m(\u001b[38;5;124m\"\u001b[39m\u001b[38;5;124mNeed a first name and a last name\u001b[39m\u001b[38;5;124m\"\u001b[39m)\n\u001b[0;32m     20\u001b[0m \u001b[38;5;28mself\u001b[39m\u001b[38;5;241m.\u001b[39mfirst \u001b[38;5;241m=\u001b[39m first\n\u001b[0;32m     21\u001b[0m \u001b[38;5;28mself\u001b[39m\u001b[38;5;241m.\u001b[39mlast \u001b[38;5;241m=\u001b[39m last\n",
      "\u001b[1;31mValueError\u001b[0m: Need a first name and a last name"
     ]
    }
   ],
   "source": [
    "emp1 = Employee(\"Aaishwarya\", \"Kulkarni\")\n",
    "print(emp1.first)\n",
    "print(emp1.last)\n",
    "print(emp1.email)\n",
    "print(emp1.fullname)\n",
    "emp1.first = \"Abc\"\n",
    "print(emp1.first)\n",
    "print(emp1.last)\n",
    "print(emp1.email)\n",
    "print(emp1.fullname)\n",
    "emp1.fullname = \"Aaishwarya Kulkarni\"\n",
    "print(emp1.first)\n",
    "print(emp1.last)\n",
    "print(emp1.email)\n",
    "print(emp1.fullname)\n",
    "emp1.fullname = \"Kulkarni\""
   ]
  },
  {
   "cell_type": "code",
   "execution_count": null,
   "id": "62dd9a18-3520-4e99-962c-dfec6e895c25",
   "metadata": {},
   "outputs": [],
   "source": []
  }
 ],
 "metadata": {
  "kernelspec": {
   "display_name": "Python 3 (ipykernel)",
   "language": "python",
   "name": "python3"
  },
  "language_info": {
   "codemirror_mode": {
    "name": "ipython",
    "version": 3
   },
   "file_extension": ".py",
   "mimetype": "text/x-python",
   "name": "python",
   "nbconvert_exporter": "python",
   "pygments_lexer": "ipython3",
   "version": "3.12.2"
  }
 },
 "nbformat": 4,
 "nbformat_minor": 5
}
