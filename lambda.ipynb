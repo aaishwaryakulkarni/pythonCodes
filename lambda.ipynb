{
 "cells": [
  {
   "cell_type": "markdown",
   "id": "4ce79fe4-851a-4daa-b4fb-747e4e1d5fa9",
   "metadata": {},
   "source": [
    "### A lambda function is an anonymous function (i.e., defined without a name) that can take any number of arguments but, unlike normal functions, evaluates and returns only one expression."
   ]
  },
  {
   "cell_type": "code",
   "execution_count": null,
   "id": "bab41920-b441-4b13-994d-0c5b04b924c1",
   "metadata": {},
   "outputs": [],
   "source": [
    "def square(x):\n",
    "    return x*x"
   ]
  },
  {
   "cell_type": "code",
   "execution_count": 2,
   "id": "d2495c32-44e1-4ec3-9801-22aac5cdd118",
   "metadata": {},
   "outputs": [
    {
     "name": "stdout",
     "output_type": "stream",
     "text": [
      "25\n"
     ]
    }
   ],
   "source": [
    "print(square(5))"
   ]
  },
  {
   "cell_type": "code",
   "execution_count": 5,
   "id": "a0d760f9-138a-467a-9ca4-e36cbb0f6449",
   "metadata": {},
   "outputs": [],
   "source": [
    "f = lambda x : x*x"
   ]
  },
  {
   "cell_type": "code",
   "execution_count": 20,
   "id": "695cadea-c3c8-498f-962a-586506afada8",
   "metadata": {},
   "outputs": [
    {
     "data": {
      "text/plain": [
       "25"
      ]
     },
     "execution_count": 20,
     "metadata": {},
     "output_type": "execute_result"
    }
   ],
   "source": [
    "f(5)"
   ]
  },
  {
   "cell_type": "code",
   "execution_count": 8,
   "id": "de174d27-6e9f-48d4-8100-fd07d95197d4",
   "metadata": {},
   "outputs": [],
   "source": [
    "f1 = lambda a,b: a+b"
   ]
  },
  {
   "cell_type": "code",
   "execution_count": 19,
   "id": "e3ead6e6-816d-4302-bdf3-b8b6e08cbb3a",
   "metadata": {},
   "outputs": [
    {
     "data": {
      "text/plain": [
       "9"
      ]
     },
     "execution_count": 19,
     "metadata": {},
     "output_type": "execute_result"
    }
   ],
   "source": [
    "f1(4,5)"
   ]
  },
  {
   "cell_type": "code",
   "execution_count": 24,
   "id": "4f8ae785-1d68-4161-a8cb-621599287565",
   "metadata": {},
   "outputs": [],
   "source": [
    "nums = [3,7,1,2,0,8,5,4,6]"
   ]
  },
  {
   "cell_type": "code",
   "execution_count": 25,
   "id": "eb8c6510-547b-4ba0-ba76-c68477739388",
   "metadata": {},
   "outputs": [],
   "source": [
    "evens = list(filter(lambda n: n%2==0, nums))"
   ]
  },
  {
   "cell_type": "code",
   "execution_count": 26,
   "id": "2282f2ea-2c00-441d-8cc7-cfdc695bab0f",
   "metadata": {},
   "outputs": [
    {
     "data": {
      "text/plain": [
       "[2, 0, 8, 4, 6]"
      ]
     },
     "execution_count": 26,
     "metadata": {},
     "output_type": "execute_result"
    }
   ],
   "source": [
    "evens"
   ]
  },
  {
   "cell_type": "code",
   "execution_count": 27,
   "id": "9dd5d72d-7564-498f-a402-4cbe3dff28f4",
   "metadata": {},
   "outputs": [],
   "source": [
    "doubles = list(map(lambda n: n*2,evens))"
   ]
  },
  {
   "cell_type": "code",
   "execution_count": 28,
   "id": "6e4362aa-29a8-45e7-9b70-3c486008e9db",
   "metadata": {},
   "outputs": [
    {
     "data": {
      "text/plain": [
       "[4, 0, 16, 8, 12]"
      ]
     },
     "execution_count": 28,
     "metadata": {},
     "output_type": "execute_result"
    }
   ],
   "source": [
    "doubles"
   ]
  },
  {
   "cell_type": "code",
   "execution_count": 29,
   "id": "b5b52df1-8732-4f31-875c-adead1a573e1",
   "metadata": {},
   "outputs": [],
   "source": [
    "from functools import reduce"
   ]
  },
  {
   "cell_type": "code",
   "execution_count": 30,
   "id": "0837621b-6330-45d9-81ce-bcecdadbfac3",
   "metadata": {},
   "outputs": [],
   "source": [
    "sum = reduce(lambda a,b: a+b, doubles)"
   ]
  },
  {
   "cell_type": "code",
   "execution_count": 31,
   "id": "e973c201-f81e-47ca-974d-5bfe0bb61228",
   "metadata": {},
   "outputs": [
    {
     "data": {
      "text/plain": [
       "40"
      ]
     },
     "execution_count": 31,
     "metadata": {},
     "output_type": "execute_result"
    }
   ],
   "source": [
    "sum"
   ]
  },
  {
   "cell_type": "markdown",
   "id": "648d5902-6e6a-472d-9b8e-85c04cc3e241",
   "metadata": {},
   "source": [
    "#### One important difference between the map() and filter() functions is that the first one always returns an iterable of the same lenth as the original one. So, since pandas Series objects are also iterables, we can apply the map() function on a DataFrame column to create a new column:"
   ]
  },
  {
   "cell_type": "code",
   "execution_count": 32,
   "id": "aca92433-3f13-4aaa-b5e9-8cd1a0382050",
   "metadata": {},
   "outputs": [],
   "source": [
    "import pandas as pd"
   ]
  },
  {
   "cell_type": "code",
   "execution_count": 33,
   "id": "543323fd-6421-4f25-a2d0-6bca848a491a",
   "metadata": {},
   "outputs": [],
   "source": [
    "df = pd.DataFrame({'col1': [1, 2, 3, 4, 5], 'col2': [0, 0, 0, 0, 0]})"
   ]
  },
  {
   "cell_type": "code",
   "execution_count": 36,
   "id": "711ca70c-132f-4083-9824-8797d16b736c",
   "metadata": {},
   "outputs": [
    {
     "data": {
      "text/html": [
       "<div>\n",
       "<style scoped>\n",
       "    .dataframe tbody tr th:only-of-type {\n",
       "        vertical-align: middle;\n",
       "    }\n",
       "\n",
       "    .dataframe tbody tr th {\n",
       "        vertical-align: top;\n",
       "    }\n",
       "\n",
       "    .dataframe thead th {\n",
       "        text-align: right;\n",
       "    }\n",
       "</style>\n",
       "<table border=\"1\" class=\"dataframe\">\n",
       "  <thead>\n",
       "    <tr style=\"text-align: right;\">\n",
       "      <th></th>\n",
       "      <th>col1</th>\n",
       "      <th>col2</th>\n",
       "      <th>col3</th>\n",
       "    </tr>\n",
       "  </thead>\n",
       "  <tbody>\n",
       "    <tr>\n",
       "      <th>0</th>\n",
       "      <td>1</td>\n",
       "      <td>0</td>\n",
       "      <td>10</td>\n",
       "    </tr>\n",
       "    <tr>\n",
       "      <th>1</th>\n",
       "      <td>2</td>\n",
       "      <td>0</td>\n",
       "      <td>20</td>\n",
       "    </tr>\n",
       "    <tr>\n",
       "      <th>2</th>\n",
       "      <td>3</td>\n",
       "      <td>0</td>\n",
       "      <td>30</td>\n",
       "    </tr>\n",
       "    <tr>\n",
       "      <th>3</th>\n",
       "      <td>4</td>\n",
       "      <td>0</td>\n",
       "      <td>40</td>\n",
       "    </tr>\n",
       "    <tr>\n",
       "      <th>4</th>\n",
       "      <td>5</td>\n",
       "      <td>0</td>\n",
       "      <td>50</td>\n",
       "    </tr>\n",
       "  </tbody>\n",
       "</table>\n",
       "</div>"
      ],
      "text/plain": [
       "   col1  col2  col3\n",
       "0     1     0    10\n",
       "1     2     0    20\n",
       "2     3     0    30\n",
       "3     4     0    40\n",
       "4     5     0    50"
      ]
     },
     "execution_count": 36,
     "metadata": {},
     "output_type": "execute_result"
    }
   ],
   "source": [
    "df"
   ]
  },
  {
   "cell_type": "code",
   "execution_count": 35,
   "id": "3c0ede0c-a2a6-405b-a62f-9985f3dee974",
   "metadata": {},
   "outputs": [],
   "source": [
    "df['col3'] = df['col1'].map(lambda x: x * 10) #df['col3'] = df['col1'].apply(lambda x: x * 10)"
   ]
  },
  {
   "cell_type": "code",
   "execution_count": 37,
   "id": "b8d541fb-dd71-4f80-9828-556a1f34934d",
   "metadata": {},
   "outputs": [
    {
     "data": {
      "text/html": [
       "<div>\n",
       "<style scoped>\n",
       "    .dataframe tbody tr th:only-of-type {\n",
       "        vertical-align: middle;\n",
       "    }\n",
       "\n",
       "    .dataframe tbody tr th {\n",
       "        vertical-align: top;\n",
       "    }\n",
       "\n",
       "    .dataframe thead th {\n",
       "        text-align: right;\n",
       "    }\n",
       "</style>\n",
       "<table border=\"1\" class=\"dataframe\">\n",
       "  <thead>\n",
       "    <tr style=\"text-align: right;\">\n",
       "      <th></th>\n",
       "      <th>col1</th>\n",
       "      <th>col2</th>\n",
       "      <th>col3</th>\n",
       "    </tr>\n",
       "  </thead>\n",
       "  <tbody>\n",
       "    <tr>\n",
       "      <th>0</th>\n",
       "      <td>1</td>\n",
       "      <td>0</td>\n",
       "      <td>10</td>\n",
       "    </tr>\n",
       "    <tr>\n",
       "      <th>1</th>\n",
       "      <td>2</td>\n",
       "      <td>0</td>\n",
       "      <td>20</td>\n",
       "    </tr>\n",
       "    <tr>\n",
       "      <th>2</th>\n",
       "      <td>3</td>\n",
       "      <td>0</td>\n",
       "      <td>30</td>\n",
       "    </tr>\n",
       "    <tr>\n",
       "      <th>3</th>\n",
       "      <td>4</td>\n",
       "      <td>0</td>\n",
       "      <td>40</td>\n",
       "    </tr>\n",
       "    <tr>\n",
       "      <th>4</th>\n",
       "      <td>5</td>\n",
       "      <td>0</td>\n",
       "      <td>50</td>\n",
       "    </tr>\n",
       "  </tbody>\n",
       "</table>\n",
       "</div>"
      ],
      "text/plain": [
       "   col1  col2  col3\n",
       "0     1     0    10\n",
       "1     2     0    20\n",
       "2     3     0    30\n",
       "3     4     0    40\n",
       "4     5     0    50"
      ]
     },
     "execution_count": 37,
     "metadata": {},
     "output_type": "execute_result"
    }
   ],
   "source": [
    "df"
   ]
  },
  {
   "cell_type": "code",
   "execution_count": null,
   "id": "cbc716dc-77d1-4d6f-a5fb-32031cc48c6f",
   "metadata": {},
   "outputs": [],
   "source": []
  }
 ],
 "metadata": {
  "kernelspec": {
   "display_name": "Python 3 (ipykernel)",
   "language": "python",
   "name": "python3"
  },
  "language_info": {
   "codemirror_mode": {
    "name": "ipython",
    "version": 3
   },
   "file_extension": ".py",
   "mimetype": "text/x-python",
   "name": "python",
   "nbconvert_exporter": "python",
   "pygments_lexer": "ipython3",
   "version": "3.12.2"
  }
 },
 "nbformat": 4,
 "nbformat_minor": 5
}
