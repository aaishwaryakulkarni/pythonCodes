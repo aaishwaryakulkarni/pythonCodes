{
 "cells": [
  {
   "cell_type": "code",
   "execution_count": 89,
   "id": "e5224806-44fd-44e3-ac08-f4e5f1dba27a",
   "metadata": {},
   "outputs": [],
   "source": [
    "nums = [1,2,3]"
   ]
  },
  {
   "cell_type": "code",
   "execution_count": 90,
   "id": "353efdb1-d5f4-460d-a6c5-c9c174f89b9c",
   "metadata": {},
   "outputs": [],
   "source": [
    "nums.append(4)"
   ]
  },
  {
   "cell_type": "code",
   "execution_count": 91,
   "id": "dd4d7360-ab0e-4912-abca-ab72f8c2b0ad",
   "metadata": {},
   "outputs": [
    {
     "data": {
      "text/plain": [
       "[1, 2, 3, 4]"
      ]
     },
     "execution_count": 91,
     "metadata": {},
     "output_type": "execute_result"
    }
   ],
   "source": [
    "nums"
   ]
  },
  {
   "cell_type": "code",
   "execution_count": 92,
   "id": "b0ca469b-b24b-4a6d-8e30-7e3510d2e79f",
   "metadata": {},
   "outputs": [],
   "source": [
    "nums1 = nums"
   ]
  },
  {
   "cell_type": "code",
   "execution_count": 93,
   "id": "17aaf26c-b6f7-4086-ba0e-f96211d74ff8",
   "metadata": {},
   "outputs": [],
   "source": [
    "nums.clear()"
   ]
  },
  {
   "cell_type": "code",
   "execution_count": 94,
   "id": "a1b655e1-f6de-4c97-a551-ea0b78035847",
   "metadata": {},
   "outputs": [
    {
     "data": {
      "text/plain": [
       "[]"
      ]
     },
     "execution_count": 94,
     "metadata": {},
     "output_type": "execute_result"
    }
   ],
   "source": [
    "nums"
   ]
  },
  {
   "cell_type": "code",
   "execution_count": 95,
   "id": "b0d0f705-6e59-4030-aa52-27a2ee6dccb3",
   "metadata": {},
   "outputs": [],
   "source": [
    "nums = [1,2,3,4]"
   ]
  },
  {
   "cell_type": "code",
   "execution_count": 96,
   "id": "45d98628-d1be-48e6-9142-2cd8ba09a344",
   "metadata": {},
   "outputs": [],
   "source": [
    "nums1 = nums.copy()"
   ]
  },
  {
   "cell_type": "markdown",
   "id": "f9fff60a-382f-450f-b93a-c8ecd5fade96",
   "metadata": {},
   "source": [
    "nums.clear()"
   ]
  },
  {
   "cell_type": "code",
   "execution_count": 97,
   "id": "d693df6f-9079-4c47-9487-54747e14a1aa",
   "metadata": {},
   "outputs": [
    {
     "data": {
      "text/plain": [
       "[1, 2, 3, 4]"
      ]
     },
     "execution_count": 97,
     "metadata": {},
     "output_type": "execute_result"
    }
   ],
   "source": [
    "nums1"
   ]
  },
  {
   "cell_type": "code",
   "execution_count": 98,
   "id": "8f69c152-bd42-46ae-9f71-694acf1d3f08",
   "metadata": {},
   "outputs": [],
   "source": [
    "li = [1,2,\"a\", \"b\"]"
   ]
  },
  {
   "cell_type": "code",
   "execution_count": 99,
   "id": "d0e9e7dd-7920-43c6-97f0-16461817afc8",
   "metadata": {},
   "outputs": [],
   "source": [
    "li1 = (\"x\", \"y\", \"z\",\"1\")"
   ]
  },
  {
   "cell_type": "code",
   "execution_count": 100,
   "id": "790451d0-a3fa-4f05-80cb-f9e44678bcf1",
   "metadata": {},
   "outputs": [],
   "source": [
    "li.extend(li1)"
   ]
  },
  {
   "cell_type": "code",
   "execution_count": 101,
   "id": "7ae38eb8-c257-401d-ab4a-6dcbb394c613",
   "metadata": {},
   "outputs": [
    {
     "data": {
      "text/plain": [
       "[1, 2, 'a', 'b', 'x', 'y', 'z', '1']"
      ]
     },
     "execution_count": 101,
     "metadata": {},
     "output_type": "execute_result"
    }
   ],
   "source": [
    "li"
   ]
  },
  {
   "cell_type": "code",
   "execution_count": 102,
   "id": "f76da0b6-1ec4-43d8-809f-f573950d60c8",
   "metadata": {},
   "outputs": [
    {
     "data": {
      "text/plain": [
       "5"
      ]
     },
     "execution_count": 102,
     "metadata": {},
     "output_type": "execute_result"
    }
   ],
   "source": [
    "li.index(\"y\")"
   ]
  },
  {
   "cell_type": "code",
   "execution_count": 103,
   "id": "abf47de0-0dcc-4300-9b9f-a1457816c2f4",
   "metadata": {},
   "outputs": [
    {
     "data": {
      "text/plain": [
       "0"
      ]
     },
     "execution_count": 103,
     "metadata": {},
     "output_type": "execute_result"
    }
   ],
   "source": [
    "li.index(1)"
   ]
  },
  {
   "cell_type": "code",
   "execution_count": 104,
   "id": "071dd6aa-b308-4c29-9fab-670569d3985b",
   "metadata": {},
   "outputs": [],
   "source": [
    "li.insert(3,\"w\")"
   ]
  },
  {
   "cell_type": "code",
   "execution_count": 105,
   "id": "12b94f98-dc45-4e4c-b126-b3e486d17c6f",
   "metadata": {},
   "outputs": [
    {
     "data": {
      "text/plain": [
       "[1, 2, 'a', 'w', 'b', 'x', 'y', 'z', '1']"
      ]
     },
     "execution_count": 105,
     "metadata": {},
     "output_type": "execute_result"
    }
   ],
   "source": [
    "li"
   ]
  },
  {
   "cell_type": "markdown",
   "id": "bc69b856-c8ef-4cb5-8706-ed10714e0243",
   "metadata": {},
   "source": [
    "#### Pop: removes based on index: in-build function"
   ]
  },
  {
   "cell_type": "code",
   "execution_count": 106,
   "id": "26be0238-086b-4611-9a52-7a88f9758659",
   "metadata": {},
   "outputs": [
    {
     "data": {
      "text/plain": [
       "'1'"
      ]
     },
     "execution_count": 106,
     "metadata": {},
     "output_type": "execute_result"
    }
   ],
   "source": [
    "li.pop()"
   ]
  },
  {
   "cell_type": "code",
   "execution_count": 107,
   "id": "d5c45303-5e87-4fbf-a4b3-f04d2c0712a4",
   "metadata": {},
   "outputs": [
    {
     "data": {
      "text/plain": [
       "[1, 2, 'a', 'w', 'b', 'x', 'y', 'z']"
      ]
     },
     "execution_count": 107,
     "metadata": {},
     "output_type": "execute_result"
    }
   ],
   "source": [
    "li"
   ]
  },
  {
   "cell_type": "code",
   "execution_count": 108,
   "id": "916c7022-e468-413b-a44b-f9ac0c47f983",
   "metadata": {},
   "outputs": [
    {
     "data": {
      "text/plain": [
       "'w'"
      ]
     },
     "execution_count": 108,
     "metadata": {},
     "output_type": "execute_result"
    }
   ],
   "source": [
    "li.pop(3)"
   ]
  },
  {
   "cell_type": "code",
   "execution_count": 109,
   "id": "6627f02e-e8c3-47dd-82b4-f0ff780ac9f2",
   "metadata": {},
   "outputs": [
    {
     "data": {
      "text/plain": [
       "[1, 2, 'a', 'b', 'x', 'y', 'z']"
      ]
     },
     "execution_count": 109,
     "metadata": {},
     "output_type": "execute_result"
    }
   ],
   "source": [
    "li"
   ]
  },
  {
   "cell_type": "code",
   "execution_count": 110,
   "id": "3c48222e-db5f-4710-ac83-2a4171e47562",
   "metadata": {},
   "outputs": [],
   "source": [
    "li.append(\"b\")"
   ]
  },
  {
   "cell_type": "markdown",
   "id": "db937d25-f2d2-46e0-a975-1bd253687e5e",
   "metadata": {},
   "source": [
    "### Remove: removes the first occurrence: build-in function"
   ]
  },
  {
   "cell_type": "code",
   "execution_count": 111,
   "id": "75cbeee7-1f92-40ab-b302-f973846a38e4",
   "metadata": {},
   "outputs": [],
   "source": [
    "li.remove(\"b\")"
   ]
  },
  {
   "cell_type": "code",
   "execution_count": 112,
   "id": "4d8f8cbc-f193-4411-a097-6d82db1959a1",
   "metadata": {},
   "outputs": [
    {
     "data": {
      "text/plain": [
       "[1, 2, 'a', 'x', 'y', 'z', 'b']"
      ]
     },
     "execution_count": 112,
     "metadata": {},
     "output_type": "execute_result"
    }
   ],
   "source": [
    "li"
   ]
  },
  {
   "cell_type": "markdown",
   "id": "f49edd15-c546-4406-a511-803a1aba9441",
   "metadata": {},
   "source": [
    "### Del: deletes based on index: not a build-in function, its a keyword"
   ]
  },
  {
   "cell_type": "code",
   "execution_count": 113,
   "id": "68ee36f5-23e2-4dfd-b7cc-bb24df3e3256",
   "metadata": {},
   "outputs": [],
   "source": [
    "del li[5]"
   ]
  },
  {
   "cell_type": "code",
   "execution_count": 120,
   "id": "aade3b09-d343-438c-b1b8-0246bead5882",
   "metadata": {},
   "outputs": [
    {
     "data": {
      "text/plain": [
       "[1, 2, 'a', 'x', 'y', 'b']"
      ]
     },
     "execution_count": 120,
     "metadata": {},
     "output_type": "execute_result"
    }
   ],
   "source": [
    "li"
   ]
  },
  {
   "cell_type": "code",
   "execution_count": 121,
   "id": "1465efe3-dc92-427d-8fd4-6fdc3526e217",
   "metadata": {},
   "outputs": [],
   "source": [
    "li.reverse()"
   ]
  },
  {
   "cell_type": "code",
   "execution_count": 122,
   "id": "27116e27-a70e-4a6c-a5e6-ce9f3d358a41",
   "metadata": {},
   "outputs": [
    {
     "data": {
      "text/plain": [
       "['b', 'y', 'x', 'a', 2, 1]"
      ]
     },
     "execution_count": 122,
     "metadata": {},
     "output_type": "execute_result"
    }
   ],
   "source": [
    "li"
   ]
  },
  {
   "cell_type": "code",
   "execution_count": 124,
   "id": "ec7afa3e-2716-410d-b141-68cd9c98718a",
   "metadata": {},
   "outputs": [],
   "source": [
    "li = [6,8,1,0,11,5,1,3]"
   ]
  },
  {
   "cell_type": "code",
   "execution_count": 125,
   "id": "2288aef8-d84b-46d0-af3a-959de3514fbb",
   "metadata": {},
   "outputs": [],
   "source": [
    "li.sort()"
   ]
  },
  {
   "cell_type": "code",
   "execution_count": 126,
   "id": "a3adeffb-1737-4146-9963-cde6ce95da47",
   "metadata": {},
   "outputs": [
    {
     "data": {
      "text/plain": [
       "[0, 1, 1, 3, 5, 6, 8, 11]"
      ]
     },
     "execution_count": 126,
     "metadata": {},
     "output_type": "execute_result"
    }
   ],
   "source": [
    "li"
   ]
  },
  {
   "cell_type": "code",
   "execution_count": null,
   "id": "2036bfdb-8e01-4571-840d-03d31c17b8c9",
   "metadata": {},
   "outputs": [],
   "source": []
  }
 ],
 "metadata": {
  "kernelspec": {
   "display_name": "Python 3 (ipykernel)",
   "language": "python",
   "name": "python3"
  },
  "language_info": {
   "codemirror_mode": {
    "name": "ipython",
    "version": 3
   },
   "file_extension": ".py",
   "mimetype": "text/x-python",
   "name": "python",
   "nbconvert_exporter": "python",
   "pygments_lexer": "ipython3",
   "version": "3.12.2"
  }
 },
 "nbformat": 4,
 "nbformat_minor": 5
}
